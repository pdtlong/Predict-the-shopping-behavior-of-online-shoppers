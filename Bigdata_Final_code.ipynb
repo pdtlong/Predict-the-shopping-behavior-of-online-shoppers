{
 "cells": [
  {
   "cell_type": "markdown",
   "metadata": {
    "id": "ZcCvY-k42s-V"
   },
   "source": [
    "**Cài đặt thư viện** "
   ]
  },
  {
   "cell_type": "code",
   "execution_count": null,
   "metadata": {
    "id": "ethuMwzu3xWE"
   },
   "outputs": [],
   "source": [
    "!pip install -U -q PyDrive\n",
    "from pydrive.auth import GoogleAuth\n",
    "from pydrive.drive import GoogleDrive\n",
    "from google.colab import auth\n",
    "from oauth2client.client import GoogleCredentials\n",
    "# Xác nhận và tạo PyDrive client.\n",
    "auth.authenticate_user()\n",
    "gauth = GoogleAuth()\n",
    "gauth.credentials = GoogleCredentials.get_application_default()\n",
    "drive = GoogleDrive(gauth) "
   ]
  },
  {
   "cell_type": "markdown",
   "metadata": {
    "id": "6BeO42Vr4ODy"
   },
   "source": [
    "**Tạo thư viện**"
   ]
  },
  {
   "cell_type": "code",
   "execution_count": null,
   "metadata": {
    "id": "bgwi12FE4W43"
   },
   "outputs": [],
   "source": [
    "# Thư viện đọc dataset\n",
    "import pandas as pd\n",
    "\n",
    "#2.1 Thư viện vẽ biểu đồ\n",
    "import matplotlib.pyplot as plt\n",
    "import seaborn as sns\n",
    "\n",
    "#Thư viện xử lý các phép toán trong mô hình\n",
    "import numpy as np"
   ]
  },
  {
   "cell_type": "markdown",
   "metadata": {
    "id": "Irmuntnm4mNG"
   },
   "source": [
    "**Đọc file dataset đã được xử lý trên Excel**"
   ]
  },
  {
   "cell_type": "code",
   "execution_count": null,
   "metadata": {
    "colab": {
     "base_uri": "https://localhost:8080/"
    },
    "id": "m-wyhI9c4wqV",
    "outputId": "0ed821f2-3916-4d50-d307-0245e886df8f"
   },
   "outputs": [
    {
     "name": "stdout",
     "output_type": "stream",
     "text": [
      "Drive already mounted at /content/drive; to attempt to forcibly remount, call drive.mount(\"/content/drive\", force_remount=True).\n"
     ]
    },
    {
     "data": {
      "text/plain": [
       "<bound method NDFrame.head of        Administrative  Administrative_Duration  ...  Weekend  Revenue\n",
       "0                   0                      0.0  ...        0        0\n",
       "1                   0                      0.0  ...        0        0\n",
       "2                   0                      0.0  ...        0        0\n",
       "3                   0                      0.0  ...        0        0\n",
       "4                   0                      0.0  ...        1        0\n",
       "...               ...                      ...  ...      ...      ...\n",
       "12325               3                    145.0  ...        1        0\n",
       "12326               0                      0.0  ...        1        0\n",
       "12327               0                      0.0  ...        1        0\n",
       "12328               4                     75.0  ...        0        0\n",
       "12329               0                      0.0  ...        1        0\n",
       "\n",
       "[12330 rows x 18 columns]>"
      ]
     },
     "execution_count": 3,
     "metadata": {
      "tags": []
     },
     "output_type": "execute_result"
    }
   ],
   "source": [
    "from google.colab import drive\n",
    "drive.mount('/content/drive')\n",
    "data = pd.read_csv('dataset_edited_by_excel.csv')\n",
    "#Xác định tên header trong dataset\n",
    "header1 =['Administrative','Administrative_Duration','Informational','Informational_Duration','ProductRelated','ProductRelated_Duration','BounceRates','ExitRates','PageValues','SpecialDay','Month','OperatingSystems','Browser','Region','TrafficType','VisitorType','Weekend','Revenue']\n",
    "data = data.reindex(columns=header1)\n",
    "data.head"
   ]
  },
  {
   "cell_type": "markdown",
   "metadata": {
    "id": "TSqjdapL5Dgx"
   },
   "source": [
    "**Kiểm tra Null Value**"
   ]
  },
  {
   "cell_type": "code",
   "execution_count": null,
   "metadata": {
    "colab": {
     "base_uri": "https://localhost:8080/"
    },
    "id": "LSvPKbjC5HWt",
    "outputId": "f961c03c-00bf-4cff-db57-0a38bb157aea"
   },
   "outputs": [
    {
     "data": {
      "text/plain": [
       "False"
      ]
     },
     "execution_count": 4,
     "metadata": {
      "tags": []
     },
     "output_type": "execute_result"
    }
   ],
   "source": [
    "data.isnull().values.any() # Returns False là data không có"
   ]
  },
  {
   "cell_type": "markdown",
   "metadata": {
    "id": "2Xe0Y7wT5YlZ"
   },
   "source": [
    "**Kiểm tra số lượng class tại output cột Revenue**"
   ]
  },
  {
   "cell_type": "code",
   "execution_count": null,
   "metadata": {
    "colab": {
     "base_uri": "https://localhost:8080/"
    },
    "id": "wJox7vlV5rkt",
    "outputId": "b0f9cb81-cfe3-462f-a366-1f9306f17ed2"
   },
   "outputs": [
    {
     "name": "stdout",
     "output_type": "stream",
     "text": [
      "Số giao dịch thành công (1):  15.47 (%)\n",
      "Không xảy ra giao dịch (0):  84.53 (%)\n"
     ]
    }
   ],
   "source": [
    "# Check ratio between 2 classes\n",
    "st = round((data['Revenue'].value_counts()[1] / len (data)) * 100, 2)\n",
    "nt = round((data['Revenue'].value_counts()[0] / len(data)) * 100, 2)\n",
    "\n",
    "print ('Số giao dịch thành công (1): ', st,'(%)')\n",
    "print ('Không xảy ra giao dịch (0): ', nt,'(%)')"
   ]
  },
  {
   "cell_type": "code",
   "execution_count": null,
   "metadata": {
    "colab": {
     "base_uri": "https://localhost:8080/",
     "height": 465
    },
    "id": "PM3WbKtW5vqy",
    "outputId": "cfcd9ded-40ac-43b0-c7f4-0c1c627b5ab7"
   },
   "outputs": [
    {
     "data": {
      "text/plain": [
       "<matplotlib.axes._subplots.AxesSubplot at 0x7ff4ac43dcd0>"
      ]
     },
     "execution_count": 6,
     "metadata": {
      "tags": []
     },
     "output_type": "execute_result"
    },
    {
     "data": {
      "image/png": "[encoded data removed]",
      "text/plain": [
       "<Figure size 504x504 with 1 Axes>"
      ]
     },
     "metadata": {
      "needs_background": "light",
      "tags": []
     },
     "output_type": "display_data"
    }
   ],
   "source": [
    "plt.figure(figsize=(7,7))\n",
    "sns.set(style=\"darkgrid\")\n",
    "sns.countplot(x=\"Revenue\", data= data)"
   ]
  },
  {
   "cell_type": "markdown",
   "metadata": {
    "id": "FLct2TFY9KJz"
   },
   "source": [
    "**Visuallize dataset và thống kê mô tả**"
   ]
  },
  {
   "cell_type": "markdown",
   "metadata": {
    "id": "1AuDXrFXrcEi"
   },
   "source": []
  },
  {
   "cell_type": "code",
   "execution_count": null,
   "metadata": {
    "colab": {
     "base_uri": "https://localhost:8080/",
     "height": 302
    },
    "id": "LYdqXBfn9z1z",
    "outputId": "df2dcc14-b3d5-4a79-8a0a-2813f124d48f"
   },
   "outputs": [
    {
     "data": {
      "text/plain": [
       "<matplotlib.axes._subplots.AxesSubplot at 0x7ff49a1a6910>"
      ]
     },
     "execution_count": 7,
     "metadata": {
      "tags": []
     },
     "output_type": "execute_result"
    },
    {
     "data": {
      "image/png": "[encoded data removed]",
      "text/plain": [
       "<Figure size 432x288 with 1 Axes>"
      ]
     },
     "metadata": {
      "tags": []
     },
     "output_type": "display_data"
    }
   ],
   "source": [
    "#plt.style.use('seaborn-white')\n",
    "plt.subplot(111)\n",
    "sns.scatterplot(x=\"Administrative\", y=\"Administrative_Duration\",hue=\"Revenue\", data=data)\n"
   ]
  },
  {
   "cell_type": "code",
   "execution_count": null,
   "metadata": {
    "colab": {
     "base_uri": "https://localhost:8080/",
     "height": 302
    },
    "id": "hA786Vmp-CdU",
    "outputId": "98a5ee73-b036-4fed-f5a6-193c6dcc185b"
   },
   "outputs": [
    {
     "data": {
      "text/plain": [
       "<matplotlib.axes._subplots.AxesSubplot at 0x7ff49a1de790>"
      ]
     },
     "execution_count": 8,
     "metadata": {
      "tags": []
     },
     "output_type": "execute_result"
    },
    {
     "data": {
      "image/png": "[encoded data removed]",
      "text/plain": [
       "<Figure size 432x288 with 1 Axes>"
      ]
     },
     "metadata": {
      "tags": []
     },
     "output_type": "display_data"
    }
   ],
   "source": [
    "plt.subplot(111)\n",
    "sns.scatterplot(x=\"Informational\", y=\"Informational_Duration\",hue=\"Revenue\", data=data)\n"
   ]
  },
  {
   "cell_type": "code",
   "execution_count": null,
   "metadata": {
    "colab": {
     "base_uri": "https://localhost:8080/",
     "height": 302
    },
    "id": "qrt82O1t-LsF",
    "outputId": "0b5b3727-31fa-42d9-8287-1a26719421c5"
   },
   "outputs": [
    {
     "data": {
      "text/plain": [
       "<matplotlib.axes._subplots.AxesSubplot at 0x7ff4995d3210>"
      ]
     },
     "execution_count": 9,
     "metadata": {
      "tags": []
     },
     "output_type": "execute_result"
    },
    {
     "data": {
      "image/png": "[encoded data removed]",
      "text/plain": [
       "<Figure size 432x288 with 1 Axes>"
      ]
     },
     "metadata": {
      "tags": []
     },
     "output_type": "display_data"
    }
   ],
   "source": [
    "plt.subplot(111)\n",
    "sns.scatterplot(x=\"ProductRelated\", y=\"ProductRelated_Duration\",hue=\"Revenue\", data=data)\n"
   ]
  },
  {
   "cell_type": "code",
   "execution_count": null,
   "metadata": {
    "colab": {
     "base_uri": "https://localhost:8080/",
     "height": 431
    },
    "id": "4a70fJQR-U7z",
    "outputId": "b46e893e-b424-4ac9-f34f-f6c6f820ba8d"
   },
   "outputs": [
    {
     "data": {
      "image/png": "[encoded data removed]",
      "text/plain": [
       "<Figure size 1296x504 with 2 Axes>"
      ]
     },
     "metadata": {
      "tags": []
     },
     "output_type": "display_data"
    }
   ],
   "source": [
    "data['VisitorType'].value_counts()\n",
    "# plotting a pie chart for browsers\n",
    "\n",
    "plt.rcParams['figure.figsize'] = (18, 7)\n",
    "size = [10551, 1694, 85]\n",
    "colors = ['violet', 'magenta', 'pink']\n",
    "labels = \"Returning Visitor\", \"New_Visitor\", \"Others\"\n",
    "explode = [0, 0, 0.1]\n",
    "plt.subplot(1, 2, 1)\n",
    "plt.pie(size, colors = colors, labels = labels, explode = explode, shadow = True, autopct = '%.2f%%')\n",
    "plt.title('Different Visitors', fontsize = 30)\n",
    "plt.axis('off')\n",
    "plt.legend()\n",
    "\n",
    "# plotting a pie chart for browsers\n",
    "size = [7961, 2462, 736, 467,174, 163, 300]\n",
    "colors = ['orange', 'yellow', 'pink', 'crimson', 'lightgreen', 'cyan', 'blue']\n",
    "labels = \"2\", \"1\",\"4\",\"5\",\"6\",\"10\",\"others\"\n",
    "\n",
    "plt.subplot(1, 2, 2)\n",
    "plt.pie(size, colors = colors, labels = labels, shadow = True, autopct = '%.2f%%', startangle = 90)\n",
    "plt.title('Different Browsers', fontsize = 30)\n",
    "plt.axis('off')\n",
    "plt.legend()\n",
    "plt.show()\n"
   ]
  },
  {
   "cell_type": "markdown",
   "metadata": {
    "id": "t4TZZV1c-ZOp"
   },
   "source": [
    "**Xử lý các feature dạng số sử dụng Robust Scaler**"
   ]
  },
  {
   "cell_type": "code",
   "execution_count": null,
   "metadata": {
    "id": "w39KZPDC-vrn"
   },
   "outputs": [],
   "source": [
    "#Loading thư viện RobustScaler từ Scikit learn\n",
    "from sklearn.preprocessing import RobustScaler\n",
    "\n",
    "#load mô hình RobustScaler\n",
    "rob_scaler = RobustScaler()\n",
    "\n",
    "data['scaled_Administrative'] = rob_scaler.fit_transform(data['Administrative'].values.reshape(-1,1))\n",
    "\n",
    "data['scaled_Administrative_Duration'] = rob_scaler.fit_transform(data['Administrative_Duration'].values.reshape(-1,1))\n",
    "\n",
    "data['scaled_Informational'] = rob_scaler.fit_transform(data['Informational'].values.reshape(-1,1))\n",
    "\n",
    "data['scaled_Informational_Duration'] = rob_scaler.fit_transform(data['Informational_Duration'].values.reshape(-1,1))\n",
    "\n",
    "data['scaled_ProductRelated'] = rob_scaler.fit_transform(data['ProductRelated'].values.reshape(-1,1))\n",
    "\n",
    "data['scaled_ProductRelated_Duration'] = rob_scaler.fit_transform(data['ProductRelated_Duration'].values.reshape(-1,1))\n",
    "\n",
    "data['scaled_BounceRates'] = rob_scaler.fit_transform(data['BounceRates'].values.reshape(-1,1))\n",
    "\n",
    "data['scaled_ExitRates'] = rob_scaler.fit_transform(data['ExitRates'].values.reshape(-1,1))\n",
    "\n",
    "data['scaled_PageValues'] = rob_scaler.fit_transform(data['PageValues'].values.reshape(-1,1))\n",
    "\n",
    "data['scaled_SpecialDay'] = rob_scaler.fit_transform(data['SpecialDay'].values.reshape(-1,1))\n"
   ]
  },
  {
   "cell_type": "markdown",
   "metadata": {
    "id": "aAbircS1_BZq"
   },
   "source": [
    "**Visualize một số kết quả nổi bật sau khi xử lý dữ liệu bằng Robust Scaler**\n"
   ]
  },
  {
   "cell_type": "code",
   "execution_count": null,
   "metadata": {
    "colab": {
     "base_uri": "https://localhost:8080/",
     "height": 372
    },
    "id": "HAnUozFa_InQ",
    "outputId": "b7d51f17-af94-4831-f19b-afe8e2691b5b"
   },
   "outputs": [
    {
     "data": {
      "text/plain": [
       "<matplotlib.axes._subplots.AxesSubplot at 0x7ff49697d790>"
      ]
     },
     "execution_count": 12,
     "metadata": {
      "tags": []
     },
     "output_type": "execute_result"
    },
    {
     "data": {
      "image/png": "[encoded data removed]",
      "text/plain": [
       "<Figure size 648x360 with 2 Axes>"
      ]
     },
     "metadata": {
      "tags": []
     },
     "output_type": "display_data"
    }
   ],
   "source": [
    "fig, (ax1, ax2) = plt.subplots(ncols=2, figsize=(9, 5))\n",
    "ax1.set_title('Before Scaling Administrative_Duration')\n",
    "sns.kdeplot(data['Administrative_Duration'], ax=ax1)\n",
    "\n",
    "ax2.set_title('After Robust Scaling Administrative_Duration')\n",
    "sns.kdeplot(data['scaled_Administrative_Duration'], ax=ax2)\n"
   ]
  },
  {
   "cell_type": "markdown",
   "metadata": {
    "id": "PXon0IfFAslx"
   },
   "source": [
    "**Tiền xử lý các feature dạng phân loại theo OneHotEncoding**\n"
   ]
  },
  {
   "cell_type": "code",
   "execution_count": null,
   "metadata": {
    "id": "VtjtBtayC2A1"
   },
   "outputs": [],
   "source": [
    "#Load thư viện OneHotEncoding từ scikit-learn\n",
    "from sklearn.preprocessing import OneHotEncoder\n",
    "onehotencoder = OneHotEncoder()\n",
    "\n",
    "#Danh sách các thuộc tính cần xử lý\n",
    "categorical_cols = ['OperatingSystems', 'Browser', 'Month','Region','TrafficType','VisitorType','Weekend']\n",
    "\n",
    "#đưa dữ liệu các thuộc tính cần xử lý vào one hotencoder\n",
    "transformed_data = onehotencoder.fit_transform(data[categorical_cols])\n",
    "\n",
    "#tạo một biến tạm để lưu dữ liệu mã hóa\n",
    "encoded_data = pd.DataFrame(transformed_data, index=data.index)\n",
    "\n",
    "# bây giờ ta gộp dữ liệu mã hóa vào biến tạm\n",
    "concatenated_data = pd.concat([data, encoded_data], axis=1)\n"
   ]
  },
  {
   "cell_type": "code",
   "execution_count": null,
   "metadata": {
    "id": "CoIqVyPYDFbV"
   },
   "outputs": [],
   "source": [
    "#Chuyển dữ liệu vào data gốc\n",
    "data['scaled_OperatingSystems'] = concatenated_data['OperatingSystems']\n",
    "data['scaled_Browser'] = concatenated_data['Browser']\n",
    "data['scaled_Month'] = concatenated_data['Month']\n",
    "data['scaled_Region'] = concatenated_data['Region']\n",
    "data['scaled_TrafficType'] = concatenated_data['TrafficType']\n",
    "data['scaled_VisitorType'] = concatenated_data['VisitorType']\n",
    "data['scaled_Weekend'] = concatenated_data['Weekend']\n"
   ]
  },
  {
   "cell_type": "code",
   "execution_count": null,
   "metadata": {
    "colab": {
     "base_uri": "https://localhost:8080/",
     "height": 216
    },
    "id": "pjD-GvTGDI_L",
    "outputId": "b65b2704-1a15-4636-fbf1-49cf7f3b914a"
   },
   "outputs": [
    {
     "data": {
      "text/html": [
       "<div>\n",
       "<style scoped>\n",
       "    .dataframe tbody tr th:only-of-type {\n",
       "        vertical-align: middle;\n",
       "    }\n",
       "\n",
       "    .dataframe tbody tr th {\n",
       "        vertical-align: top;\n",
       "    }\n",
       "\n",
       "    .dataframe thead th {\n",
       "        text-align: right;\n",
       "    }\n",
       "</style>\n",
       "<table border=\"1\" class=\"dataframe\">\n",
       "  <thead>\n",
       "    <tr style=\"text-align: right;\">\n",
       "      <th></th>\n",
       "      <th>Revenue</th>\n",
       "      <th>scaled_Administrative</th>\n",
       "      <th>scaled_Administrative_Duration</th>\n",
       "      <th>scaled_Informational</th>\n",
       "      <th>scaled_Informational_Duration</th>\n",
       "      <th>scaled_ProductRelated</th>\n",
       "      <th>scaled_ProductRelated_Duration</th>\n",
       "      <th>scaled_BounceRates</th>\n",
       "      <th>scaled_ExitRates</th>\n",
       "      <th>scaled_PageValues</th>\n",
       "      <th>scaled_SpecialDay</th>\n",
       "      <th>scaled_OperatingSystems</th>\n",
       "      <th>scaled_Browser</th>\n",
       "      <th>scaled_Month</th>\n",
       "      <th>scaled_Region</th>\n",
       "      <th>scaled_TrafficType</th>\n",
       "      <th>scaled_VisitorType</th>\n",
       "      <th>scaled_Weekend</th>\n",
       "    </tr>\n",
       "  </thead>\n",
       "  <tbody>\n",
       "    <tr>\n",
       "      <th>0</th>\n",
       "      <td>0</td>\n",
       "      <td>-0.25</td>\n",
       "      <td>-0.080424</td>\n",
       "      <td>0.0</td>\n",
       "      <td>0.0</td>\n",
       "      <td>-0.548387</td>\n",
       "      <td>-0.467912</td>\n",
       "      <td>11.720238</td>\n",
       "      <td>4.896359</td>\n",
       "      <td>0.0</td>\n",
       "      <td>0.0</td>\n",
       "      <td>1</td>\n",
       "      <td>1</td>\n",
       "      <td>2</td>\n",
       "      <td>1</td>\n",
       "      <td>1</td>\n",
       "      <td>3</td>\n",
       "      <td>0</td>\n",
       "    </tr>\n",
       "    <tr>\n",
       "      <th>1</th>\n",
       "      <td>0</td>\n",
       "      <td>-0.25</td>\n",
       "      <td>-0.080424</td>\n",
       "      <td>0.0</td>\n",
       "      <td>0.0</td>\n",
       "      <td>-0.516129</td>\n",
       "      <td>-0.417913</td>\n",
       "      <td>-0.184524</td>\n",
       "      <td>2.095238</td>\n",
       "      <td>0.0</td>\n",
       "      <td>0.0</td>\n",
       "      <td>2</td>\n",
       "      <td>2</td>\n",
       "      <td>2</td>\n",
       "      <td>1</td>\n",
       "      <td>2</td>\n",
       "      <td>3</td>\n",
       "      <td>0</td>\n",
       "    </tr>\n",
       "    <tr>\n",
       "      <th>2</th>\n",
       "      <td>0</td>\n",
       "      <td>-0.25</td>\n",
       "      <td>-0.080424</td>\n",
       "      <td>0.0</td>\n",
       "      <td>0.0</td>\n",
       "      <td>-0.548387</td>\n",
       "      <td>-0.467912</td>\n",
       "      <td>11.720238</td>\n",
       "      <td>4.896359</td>\n",
       "      <td>0.0</td>\n",
       "      <td>0.0</td>\n",
       "      <td>4</td>\n",
       "      <td>1</td>\n",
       "      <td>2</td>\n",
       "      <td>9</td>\n",
       "      <td>3</td>\n",
       "      <td>3</td>\n",
       "      <td>0</td>\n",
       "    </tr>\n",
       "    <tr>\n",
       "      <th>3</th>\n",
       "      <td>0</td>\n",
       "      <td>-0.25</td>\n",
       "      <td>-0.080424</td>\n",
       "      <td>0.0</td>\n",
       "      <td>0.0</td>\n",
       "      <td>-0.516129</td>\n",
       "      <td>-0.465829</td>\n",
       "      <td>2.791667</td>\n",
       "      <td>3.215686</td>\n",
       "      <td>0.0</td>\n",
       "      <td>0.0</td>\n",
       "      <td>3</td>\n",
       "      <td>2</td>\n",
       "      <td>2</td>\n",
       "      <td>2</td>\n",
       "      <td>4</td>\n",
       "      <td>3</td>\n",
       "      <td>0</td>\n",
       "    </tr>\n",
       "    <tr>\n",
       "      <th>4</th>\n",
       "      <td>0</td>\n",
       "      <td>-0.25</td>\n",
       "      <td>-0.080424</td>\n",
       "      <td>0.0</td>\n",
       "      <td>0.0</td>\n",
       "      <td>-0.258065</td>\n",
       "      <td>0.022315</td>\n",
       "      <td>1.005952</td>\n",
       "      <td>0.694678</td>\n",
       "      <td>0.0</td>\n",
       "      <td>0.0</td>\n",
       "      <td>3</td>\n",
       "      <td>3</td>\n",
       "      <td>2</td>\n",
       "      <td>1</td>\n",
       "      <td>4</td>\n",
       "      <td>3</td>\n",
       "      <td>1</td>\n",
       "    </tr>\n",
       "  </tbody>\n",
       "</table>\n",
       "</div>"
      ],
      "text/plain": [
       "   Revenue  scaled_Administrative  ...  scaled_VisitorType  scaled_Weekend\n",
       "0        0                  -0.25  ...                   3               0\n",
       "1        0                  -0.25  ...                   3               0\n",
       "2        0                  -0.25  ...                   3               0\n",
       "3        0                  -0.25  ...                   3               0\n",
       "4        0                  -0.25  ...                   3               1\n",
       "\n",
       "[5 rows x 18 columns]"
      ]
     },
     "execution_count": 15,
     "metadata": {
      "tags": []
     },
     "output_type": "execute_result"
    }
   ],
   "source": [
    "#Loại bỏ nhưng cột chưa được làm sạch\n",
    "data.drop(['Administrative','Administrative_Duration','Informational','Informational_Duration','ProductRelated','ProductRelated_Duration','BounceRates','ExitRates','PageValues','SpecialDay','OperatingSystems', 'Browser', 'Month','Region','TrafficType','VisitorType','Weekend'], axis=1, inplace=True)\n",
    "\n",
    "# xuất kết quả sau khi đã chuẩn hóa ra màn hình\n",
    "data.head()\n"
   ]
  },
  {
   "cell_type": "code",
   "execution_count": null,
   "metadata": {
    "id": "-iWecQ1uEOsb"
   },
   "outputs": [],
   "source": [
    "#14 Chia tập dataset ra làm 2 phần X = là tất cả các biến độc lập (trừ output) Y = output Revenue\n",
    "y = data.Revenue\n",
    "X = data.drop('Revenue', axis=1)\n"
   ]
  },
  {
   "cell_type": "code",
   "execution_count": null,
   "metadata": {
    "colab": {
     "base_uri": "https://localhost:8080/"
    },
    "id": "rUEtySxyEYfl",
    "outputId": "75733fc6-fa66-4b9b-a441-706c9b8a5df2"
   },
   "outputs": [
    {
     "name": "stdout",
     "output_type": "stream",
     "text": [
      "Archive:  mRMR.zip\n",
      "replace mRMR/mrmr.py? [y]es, [n]o, [A]ll, [N]one, [r]ename: A\n",
      "  inflating: mRMR/mrmr.py            \n",
      "  inflating: mRMR/utils/information_metrics.py  \n",
      " extracting: mRMR/utils/__init__.py  \n",
      "  inflating: mRMR/utils/__pycache__/information_metrics.cpython-37.pyc  \n",
      "  inflating: mRMR/utils/__pycache__/__init__.cpython-37.pyc  \n"
     ]
    }
   ],
   "source": [
    "!unzip mRMR.zip"
   ]
  },
  {
   "cell_type": "code",
   "execution_count": null,
   "metadata": {
    "id": "rukUOrkAEcfT"
   },
   "outputs": [],
   "source": [
    "import unittest\n",
    "import numpy as np\n",
    "from sklearn.preprocessing import KBinsDiscretizer\n",
    "from mRMR.mrmr import MRMR"
   ]
  },
  {
   "cell_type": "code",
   "execution_count": null,
   "metadata": {
    "id": "6MmU-ixAEfuM"
   },
   "outputs": [],
   "source": [
    "discretizer = KBinsDiscretizer(n_bins=3, encode='ordinal', strategy='uniform')\n",
    "X_discr = discretizer.fit_transform(X)"
   ]
  },
  {
   "cell_type": "code",
   "execution_count": null,
   "metadata": {
    "colab": {
     "base_uri": "https://localhost:8080/"
    },
    "id": "SUOqAQ2aEkCo",
    "outputId": "47ec7ad4-b6ca-4ae6-ccde-055d5218b63f"
   },
   "outputs": [
    {
     "name": "stdout",
     "output_type": "stream",
     "text": [
      "Các feature được thứ tự giảm dần (top 6) ['scaled_ExitRates', 'scaled_BounceRates', 'scaled_Month', 'scaled_VisitorType', 'scaled_PageValues', 'scaled_SpecialDay']\n"
     ]
    }
   ],
   "source": [
    "features = X.columns\n",
    "mrmr = MRMR(n_features=6)\n",
    "selected_indices = mrmr.fit(X_discr, y.to_list())\n",
    "selected_feature_names = features[selected_indices]\n",
    "\n",
    "print('Các feature được thứ tự giảm dần (top 6)', selected_feature_names.to_list())\n"
   ]
  },
  {
   "cell_type": "code",
   "execution_count": null,
   "metadata": {
    "colab": {
     "base_uri": "https://localhost:8080/",
     "height": 196
    },
    "id": "ytQhdMQ0EvUr",
    "outputId": "50f741ac-1417-4daa-8d8a-b5046f8e8454"
   },
   "outputs": [
    {
     "data": {
      "text/html": [
       "<div>\n",
       "<style scoped>\n",
       "    .dataframe tbody tr th:only-of-type {\n",
       "        vertical-align: middle;\n",
       "    }\n",
       "\n",
       "    .dataframe tbody tr th {\n",
       "        vertical-align: top;\n",
       "    }\n",
       "\n",
       "    .dataframe thead th {\n",
       "        text-align: right;\n",
       "    }\n",
       "</style>\n",
       "<table border=\"1\" class=\"dataframe\">\n",
       "  <thead>\n",
       "    <tr style=\"text-align: right;\">\n",
       "      <th></th>\n",
       "      <th>scaled_BounceRates</th>\n",
       "      <th>scaled_ExitRates</th>\n",
       "      <th>scaled_PageValues</th>\n",
       "      <th>scaled_SpecialDay</th>\n",
       "      <th>scaled_Month</th>\n",
       "      <th>scaled_VisitorType</th>\n",
       "    </tr>\n",
       "  </thead>\n",
       "  <tbody>\n",
       "    <tr>\n",
       "      <th>0</th>\n",
       "      <td>11.720238</td>\n",
       "      <td>4.896359</td>\n",
       "      <td>0.0</td>\n",
       "      <td>0.0</td>\n",
       "      <td>2</td>\n",
       "      <td>3</td>\n",
       "    </tr>\n",
       "    <tr>\n",
       "      <th>1</th>\n",
       "      <td>-0.184524</td>\n",
       "      <td>2.095238</td>\n",
       "      <td>0.0</td>\n",
       "      <td>0.0</td>\n",
       "      <td>2</td>\n",
       "      <td>3</td>\n",
       "    </tr>\n",
       "    <tr>\n",
       "      <th>2</th>\n",
       "      <td>11.720238</td>\n",
       "      <td>4.896359</td>\n",
       "      <td>0.0</td>\n",
       "      <td>0.0</td>\n",
       "      <td>2</td>\n",
       "      <td>3</td>\n",
       "    </tr>\n",
       "    <tr>\n",
       "      <th>3</th>\n",
       "      <td>2.791667</td>\n",
       "      <td>3.215686</td>\n",
       "      <td>0.0</td>\n",
       "      <td>0.0</td>\n",
       "      <td>2</td>\n",
       "      <td>3</td>\n",
       "    </tr>\n",
       "    <tr>\n",
       "      <th>4</th>\n",
       "      <td>1.005952</td>\n",
       "      <td>0.694678</td>\n",
       "      <td>0.0</td>\n",
       "      <td>0.0</td>\n",
       "      <td>2</td>\n",
       "      <td>3</td>\n",
       "    </tr>\n",
       "  </tbody>\n",
       "</table>\n",
       "</div>"
      ],
      "text/plain": [
       "   scaled_BounceRates  scaled_ExitRates  ...  scaled_Month  scaled_VisitorType\n",
       "0           11.720238          4.896359  ...             2                   3\n",
       "1           -0.184524          2.095238  ...             2                   3\n",
       "2           11.720238          4.896359  ...             2                   3\n",
       "3            2.791667          3.215686  ...             2                   3\n",
       "4            1.005952          0.694678  ...             2                   3\n",
       "\n",
       "[5 rows x 6 columns]"
      ]
     },
     "execution_count": 21,
     "metadata": {
      "tags": []
     },
     "output_type": "execute_result"
    }
   ],
   "source": [
    "#Loại bỏ các cột khác ngoại trừ 6 cột đã lọc được từ bước trên\n",
    "X.drop(X.columns.difference(selected_feature_names), 1, inplace=True)\n",
    "X.head()\n"
   ]
  },
  {
   "cell_type": "markdown",
   "metadata": {
    "id": "t9XyoQNAE9_1"
   },
   "source": [
    "**Chia 30% tập test và 70% for make a train sheet**"
   ]
  },
  {
   "cell_type": "code",
   "execution_count": null,
   "metadata": {
    "colab": {
     "base_uri": "https://localhost:8080/"
    },
    "id": "6G7n19jNFEZU",
    "outputId": "11d9f413-a15b-459a-d507-eba722e2a439"
   },
   "outputs": [
    {
     "name": "stdout",
     "output_type": "stream",
     "text": [
      "\n",
      "X_train:\n",
      "\n",
      "       scaled_BounceRates  scaled_ExitRates  ...  scaled_Month  scaled_VisitorType\n",
      "4361             0.345238         -0.047619  ...             5                   3\n",
      "6250            -0.184524          0.414566  ...            10                   3\n",
      "11133           -0.184524         -0.428571  ...            11                   3\n",
      "2765             1.077381         -0.201681  ...             5                   3\n",
      "9047             0.898810         -0.196078  ...            11                   2\n",
      "\n",
      "[5 rows x 6 columns]\n",
      "(8631, 6)\n",
      "\n",
      "X_test:\n",
      "\n",
      "      scaled_BounceRates  scaled_ExitRates  ...  scaled_Month  scaled_VisitorType\n",
      "2378            1.470238         -0.011204  ...             5                   3\n",
      "8771           -0.184524          1.162465  ...            11                   3\n",
      "5223            0.494048          0.445378  ...             5                   3\n",
      "2202           -0.184524         -0.509804  ...             5                   3\n",
      "8711           -0.184524          0.156863  ...            11                   3\n",
      "\n",
      "[5 rows x 6 columns]\n",
      "(3699, 6)\n"
     ]
    }
   ],
   "source": [
    "#load thư viện chia data\n",
    "from sklearn.model_selection import train_test_split\n",
    "\n",
    "X_train, X_test, y_train, y_test = train_test_split(X, y,test_size=0.3)\n",
    "print(\"\\nX_train:\\n\")\n",
    "print(X_train.head())\n",
    "print(X_train.shape)\n",
    "\n",
    "print(\"\\nX_test:\\n\")\n",
    "print(X_test.head())\n",
    "print(X_test.shape)\n"
   ]
  },
  {
   "cell_type": "code",
   "execution_count": null,
   "metadata": {
    "colab": {
     "base_uri": "https://localhost:8080/",
     "height": 465
    },
    "id": "K0oN2c5rIflS",
    "outputId": "4bf05308-5ab2-4521-da26-41efe36c34d9"
   },
   "outputs": [
    {
     "data": {
      "text/plain": [
       "<matplotlib.axes._subplots.AxesSubplot at 0x7ff48d393ad0>"
      ]
     },
     "execution_count": 23,
     "metadata": {
      "tags": []
     },
     "output_type": "execute_result"
    },
    {
     "data": {
      "image/png": "[encoded data removed]",
      "text/plain": [
       "<Figure size 504x504 with 1 Axes>"
      ]
     },
     "metadata": {
      "tags": []
     },
     "output_type": "display_data"
    }
   ],
   "source": [
    "training_data = pd.concat([X_train,y_train],axis = 1)\n",
    "training_data['Revenue'].value_counts()\n",
    "#21 vẽ mô hình \n",
    "plt.figure(figsize=(7,7))\n",
    "sns.set(style=\"darkgrid\")\n",
    "sns.countplot(x=\"Revenue\", data= training_data)\n"
   ]
  },
  {
   "cell_type": "markdown",
   "metadata": {
    "id": "dSfl19e8IoYN"
   },
   "source": [
    "Đây là kết quả thu được tương ứng vs output 0,1 của tập train ta nhận thấy chúng đã bị mất cân bằng Bước kế tiếp ta tiến hành Over-sampling cho dữ liệu mất cân bằng trên\n"
   ]
  },
  {
   "cell_type": "code",
   "execution_count": null,
   "metadata": {
    "colab": {
     "base_uri": "https://localhost:8080/",
     "height": 515
    },
    "id": "gBU9ZFFQIqPJ",
    "outputId": "051ea1a0-c222-4611-c039-36d2d21972f5"
   },
   "outputs": [
    {
     "name": "stdout",
     "output_type": "stream",
     "text": [
      "Phần trăm các phiên giao dịch tốt:  0.5\n",
      "Phần trăm các phiên giao dịch xấu:  0.5\n",
      "Total number of transactions in resampled data:  14614\n"
     ]
    },
    {
     "data": {
      "text/plain": [
       "<matplotlib.axes._subplots.AxesSubplot at 0x7ff49955e310>"
      ]
     },
     "execution_count": 24,
     "metadata": {
      "tags": []
     },
     "output_type": "execute_result"
    },
    {
     "data": {
      "image/png": "[encoded data removed]",
      "text/plain": [
       "<Figure size 504x504 with 1 Axes>"
      ]
     },
     "metadata": {
      "tags": []
     },
     "output_type": "display_data"
    }
   ],
   "source": [
    "# Giao dịch Thành công /thất bại\n",
    "Good = training_data[training_data['Revenue'] == 1]\n",
    "bad = training_data[training_data['Revenue'] == 0]\n",
    "\n",
    "# Số lương giao dịch Thành công và ngược lại\n",
    "number_records_fraud = len(Good)\n",
    "number_records_non_fraud = len (bad)\n",
    "\n",
    "over_sample_fraud = Good.sample (number_records_non_fraud, replace = True) \n",
    "over_sample_data = pd.concat ([over_sample_fraud, bad], axis = 0)\n",
    "\n",
    "# xuất tỉ số \n",
    "print(\"Phần trăm các phiên giao dịch tốt: \", len(over_sample_data[over_sample_data.Revenue == 0])/len(over_sample_data))\n",
    "print(\"Phần trăm các phiên giao dịch xấu: \", len(over_sample_data[over_sample_data.Revenue == 1])/len(over_sample_data))\n",
    "print(\"Total number of transactions in resampled data: \", len(over_sample_data))\n",
    "\n",
    "# Assigning X, y for over-sampled dataset\n",
    "X_train_oversample = over_sample_data.drop ('Revenue', axis = 1)\n",
    "y_train_oversample = over_sample_data['Revenue']\n",
    "\n",
    "# Plot countplot\n",
    "plt.figure(figsize=(7,7))\n",
    "sns.set(style=\"darkgrid\")\n",
    "sns.countplot(x=\"Revenue\", data=over_sample_data)\n"
   ]
  },
  {
   "cell_type": "markdown",
   "metadata": {
    "id": "7GdxTksIJBAT"
   },
   "source": [
    "**CHẠY MÔ HÌNH**"
   ]
  },
  {
   "cell_type": "markdown",
   "metadata": {
    "id": "Zj_dUnXVLCZc"
   },
   "source": [
    "**MLP-Classifier**"
   ]
  },
  {
   "cell_type": "code",
   "execution_count": null,
   "metadata": {
    "id": "1KsnlajzLLnC"
   },
   "outputs": [],
   "source": [
    "from sklearn.neural_network import MLPClassifier\n",
    "from sklearn.model_selection import train_test_split\n",
    "from sklearn.metrics import accuracy_score\n",
    "from sklearn.metrics import confusion_matrix\n",
    "mlp_model = MLPClassifier(solver='adam', alpha=1e-5, hidden_layer_sizes=(10), random_state=1,verbose=1)\n"
   ]
  },
  {
   "cell_type": "code",
   "execution_count": null,
   "metadata": {
    "colab": {
     "base_uri": "https://localhost:8080/"
    },
    "id": "V7wtc6LuLQKh",
    "outputId": "27e97865-1997-43d8-916a-27a4c358809d"
   },
   "outputs": [
    {
     "name": "stdout",
     "output_type": "stream",
     "text": [
      "Iteration 1, loss = 1.54285098\n",
      "Iteration 2, loss = 0.76943174\n",
      "Iteration 3, loss = 0.54844801\n",
      "Iteration 4, loss = 0.49405683\n",
      "Iteration 5, loss = 0.47423143\n",
      "Iteration 6, loss = 0.46113363\n",
      "Iteration 7, loss = 0.45031748\n",
      "Iteration 8, loss = 0.44142594\n",
      "Iteration 9, loss = 0.43481860\n",
      "Iteration 10, loss = 0.42456470\n",
      "Iteration 11, loss = 0.41225791\n",
      "Iteration 12, loss = 0.40506978\n",
      "Iteration 13, loss = 0.40040258\n",
      "Iteration 14, loss = 0.39717319\n",
      "Iteration 15, loss = 0.39388537\n",
      "Iteration 16, loss = 0.39167032\n",
      "Iteration 17, loss = 0.38963916\n",
      "Iteration 18, loss = 0.38774619\n",
      "Iteration 19, loss = 0.38610861\n",
      "Iteration 20, loss = 0.38474332\n",
      "Iteration 21, loss = 0.38439625\n",
      "Iteration 22, loss = 0.38298258\n",
      "Iteration 23, loss = 0.38222108\n",
      "Iteration 24, loss = 0.38132371\n",
      "Iteration 25, loss = 0.38040131\n",
      "Iteration 26, loss = 0.38045787\n",
      "Iteration 27, loss = 0.37933268\n",
      "Iteration 28, loss = 0.37923482\n",
      "Iteration 29, loss = 0.37858658\n",
      "Iteration 30, loss = 0.37806798\n",
      "Iteration 31, loss = 0.37783498\n",
      "Iteration 32, loss = 0.37789058\n",
      "Iteration 33, loss = 0.37724676\n",
      "Iteration 34, loss = 0.37692475\n",
      "Iteration 35, loss = 0.37734201\n",
      "Iteration 36, loss = 0.37663538\n",
      "Iteration 37, loss = 0.37663594\n",
      "Iteration 38, loss = 0.37633658\n",
      "Iteration 39, loss = 0.37595147\n",
      "Iteration 40, loss = 0.37551569\n",
      "Iteration 41, loss = 0.37557938\n",
      "Iteration 42, loss = 0.37614434\n",
      "Iteration 43, loss = 0.37514557\n",
      "Iteration 44, loss = 0.37543275\n",
      "Iteration 45, loss = 0.37502435\n",
      "Iteration 46, loss = 0.37488351\n",
      "Iteration 47, loss = 0.37571949\n",
      "Iteration 48, loss = 0.37507671\n",
      "Iteration 49, loss = 0.37482291\n",
      "Iteration 50, loss = 0.37448925\n",
      "Iteration 51, loss = 0.37401134\n",
      "Iteration 52, loss = 0.37456789\n",
      "Iteration 53, loss = 0.37424892\n",
      "Iteration 54, loss = 0.37457667\n",
      "Iteration 55, loss = 0.37441135\n",
      "Iteration 56, loss = 0.37381419\n",
      "Iteration 57, loss = 0.37424858\n",
      "Iteration 58, loss = 0.37429561\n",
      "Iteration 59, loss = 0.37403916\n",
      "Iteration 60, loss = 0.37355369\n",
      "Iteration 61, loss = 0.37446057\n",
      "Iteration 62, loss = 0.37349398\n",
      "Iteration 63, loss = 0.37405032\n",
      "Iteration 64, loss = 0.37349041\n",
      "Iteration 65, loss = 0.37295490\n",
      "Iteration 66, loss = 0.37362717\n",
      "Iteration 67, loss = 0.37331890\n",
      "Iteration 68, loss = 0.37295722\n",
      "Iteration 69, loss = 0.37328628\n",
      "Iteration 70, loss = 0.37309972\n",
      "Iteration 71, loss = 0.37260929\n",
      "Iteration 72, loss = 0.37291789\n",
      "Iteration 73, loss = 0.37319437\n",
      "Iteration 74, loss = 0.37248163\n",
      "Iteration 75, loss = 0.37429251\n",
      "Iteration 76, loss = 0.37280715\n",
      "Iteration 77, loss = 0.37234392\n",
      "Iteration 78, loss = 0.37236332\n",
      "Iteration 79, loss = 0.37240178\n",
      "Iteration 80, loss = 0.37237635\n",
      "Iteration 81, loss = 0.37229119\n",
      "Iteration 82, loss = 0.37214571\n",
      "Iteration 83, loss = 0.37258725\n",
      "Iteration 84, loss = 0.37214510\n",
      "Iteration 85, loss = 0.37229919\n",
      "Iteration 86, loss = 0.37195571\n",
      "Iteration 87, loss = 0.37222086\n",
      "Iteration 88, loss = 0.37259462\n",
      "Iteration 89, loss = 0.37172595\n",
      "Iteration 90, loss = 0.37156204\n",
      "Iteration 91, loss = 0.37151079\n",
      "Iteration 92, loss = 0.37163102\n",
      "Iteration 93, loss = 0.37169659\n",
      "Iteration 94, loss = 0.37188666\n",
      "Iteration 95, loss = 0.37175999\n",
      "Iteration 96, loss = 0.37129276\n",
      "Iteration 97, loss = 0.37205748\n",
      "Iteration 98, loss = 0.37132867\n",
      "Iteration 99, loss = 0.37127712\n",
      "Iteration 100, loss = 0.37172694\n",
      "Iteration 101, loss = 0.37188879\n",
      "Iteration 102, loss = 0.37101197\n",
      "Iteration 103, loss = 0.37128505\n",
      "Iteration 104, loss = 0.37131965\n",
      "Iteration 105, loss = 0.37096946\n",
      "Iteration 106, loss = 0.37143539\n",
      "Iteration 107, loss = 0.37101170\n",
      "Iteration 108, loss = 0.37085291\n",
      "Iteration 109, loss = 0.37090264\n",
      "Iteration 110, loss = 0.37119025\n",
      "Iteration 111, loss = 0.37098257\n",
      "Iteration 112, loss = 0.37231348\n",
      "Iteration 113, loss = 0.37176708\n",
      "Iteration 114, loss = 0.37069756\n",
      "Iteration 115, loss = 0.37115271\n",
      "Iteration 116, loss = 0.37044760\n",
      "Iteration 117, loss = 0.37080621\n",
      "Iteration 118, loss = 0.37106236\n",
      "Iteration 119, loss = 0.37106131\n",
      "Iteration 120, loss = 0.37031268\n",
      "Iteration 121, loss = 0.37112940\n",
      "Iteration 122, loss = 0.37085478\n",
      "Iteration 123, loss = 0.37029734\n",
      "Iteration 124, loss = 0.37021537\n",
      "Iteration 125, loss = 0.37109568\n",
      "Iteration 126, loss = 0.37077546\n",
      "Iteration 127, loss = 0.37082311\n",
      "Iteration 128, loss = 0.37039940\n",
      "Iteration 129, loss = 0.37051431\n",
      "Iteration 130, loss = 0.37044319\n",
      "Iteration 131, loss = 0.36987166\n",
      "Iteration 132, loss = 0.37025899\n",
      "Iteration 133, loss = 0.37009452\n",
      "Iteration 134, loss = 0.37103578\n",
      "Iteration 135, loss = 0.36990591\n",
      "Iteration 136, loss = 0.37044989\n",
      "Iteration 137, loss = 0.37016993\n",
      "Iteration 138, loss = 0.37081062\n",
      "Iteration 139, loss = 0.36998443\n",
      "Iteration 140, loss = 0.36992493\n",
      "Iteration 141, loss = 0.36977737\n",
      "Iteration 142, loss = 0.36979151\n",
      "Training loss did not improve more than tol=0.000100 for 10 consecutive epochs. Stopping.\n"
     ]
    }
   ],
   "source": [
    "#Huấn luyện mô hình\n",
    "mlp_model.fit(X_train_oversample, y_train_oversample)\n",
    "#Dự đoán kết quả với mô hình mlp\n",
    "y_pred1 = mlp_model.predict(X_test)"
   ]
  },
  {
   "cell_type": "code",
   "execution_count": null,
   "metadata": {
    "id": "lX5mfW8VLkZX"
   },
   "outputs": [],
   "source": [
    "# confusion matrix to precision + recall\n",
    "def cm2pr_binary(cm):\n",
    "    p = cm[0,0]/np.sum(cm[:,0])\n",
    "    r = cm[0,0]/np.sum(cm[0])\n",
    "    return (p, r)"
   ]
  },
  {
   "cell_type": "code",
   "execution_count": null,
   "metadata": {
    "colab": {
     "base_uri": "https://localhost:8080/"
    },
    "id": "f1NX2lISLZNW",
    "outputId": "3cb83832-bc7b-4279-cf10-b3e46fd85fbf"
   },
   "outputs": [
    {
     "name": "stdout",
     "output_type": "stream",
     "text": [
      "Độ chính xác là:  0.8772641254393079\n",
      "Số lượng các giao dịch thành công được dự đoán (True positive): 2773\n",
      "Số lượng các giao dịch thất bại bị phân loại nhầm là thành công 342\n",
      "Số lượng các giao dịch thất bại được dự đoán đúng 472\n",
      "Số lượng các giao dịch thành công bị phân loại nhầm là thất bại 112\n",
      "True Positive rate = 0.961\n",
      "True Negative rate = 0.580\n",
      "Giá trị precision = 0.961 \n",
      "Giá trị recall = 0.890\n",
      "Giá trị F1 Score = 0.96\n"
     ]
    }
   ],
   "source": [
    "print('Độ chính xác là: ',accuracy_score(y_test, y_pred1))\n",
    "cm = confusion_matrix(y_test, y_pred1)\n",
    "tp, fp, fn, tn = cm.ravel()\n",
    "print('Số lượng các giao dịch thành công được dự đoán (True positive):',tp)\n",
    "print('Số lượng các giao dịch thất bại bị phân loại nhầm là thành công',fp)\n",
    "print('Số lượng các giao dịch thất bại được dự đoán đúng',tn)\n",
    "print('Số lượng các giao dịch thành công bị phân loại nhầm là thất bại',fn)\n",
    "print(\"True Positive rate = {0:.3f}\".format(tp/(tp+fn)))\n",
    "print(\"True Negative rate = {0:.3f}\".format(tn/(tn+fp)))\n",
    "p,r = cm2pr_binary(cm)\n",
    "print(\"Giá trị precision = {0:.3f} \".format(p))\n",
    "print(\"Giá trị recall = {0:.3f}\".format(r))\n",
    "F1 = 2 * (p * r) / (p + r)\n",
    "print(\"Giá trị F1 Score = {0:.2f}\".format(p, r))"
   ]
  },
  {
   "cell_type": "markdown",
   "metadata": {
    "id": "XFgBZO5BNFv2"
   },
   "source": [
    "**Thuật toán cây quyết định dựa trên C4.5**\n",
    "\n"
   ]
  },
  {
   "cell_type": "code",
   "execution_count": null,
   "metadata": {
    "colab": {
     "base_uri": "https://localhost:8080/"
    },
    "id": "XeJRDYEaNKhy",
    "outputId": "fcdc00a0-150e-478c-800f-50b2f66ebb3e"
   },
   "outputs": [
    {
     "name": "stdout",
     "output_type": "stream",
     "text": [
      "Archive:  c45.zip\n",
      "replace c45/c45.py? [y]es, [n]o, [A]ll, [N]one, [r]ename: A\n",
      "  inflating: c45/c45.py              \n",
      "  inflating: c45/c45_utils.py        \n",
      " extracting: c45/__init__.py         \n"
     ]
    }
   ],
   "source": [
    "!unzip c45.zip"
   ]
  },
  {
   "cell_type": "markdown",
   "metadata": {
    "id": "iaTNNggW3m_v"
   },
   "source": [
    "Sử dụng mã Nguồn mở :https://github.com/RaczeQ/scikit-learn-C4.5-tree-classifier/blob/master/c45/c45_utils.py"
   ]
  },
  {
   "cell_type": "code",
   "execution_count": 2,
   "metadata": {
    "id": "L8h7WD2kNR8P"
   },
   "outputs": [
    {
     "ename": "NameError",
     "evalue": "name 'X' is not defined",
     "output_type": "error",
     "traceback": [
      "\u001b[1;31m---------------------------------------------------------------------------\u001b[0m",
      "\u001b[1;31mNameError\u001b[0m                                 Traceback (most recent call last)",
      "\u001b[1;32m<ipython-input-2-aabf288228ec>\u001b[0m in \u001b[0;36m<module>\u001b[1;34m\u001b[0m\n\u001b[0;32m      1\u001b[0m \u001b[1;31m#loading thư viện C4.5\u001b[0m\u001b[1;33m\u001b[0m\u001b[1;33m\u001b[0m\u001b[1;33m\u001b[0m\u001b[0m\n\u001b[0;32m      2\u001b[0m \u001b[1;32mfrom\u001b[0m \u001b[0mc45_tree_classifier\u001b[0m \u001b[1;32mimport\u001b[0m \u001b[0mC45\u001b[0m\u001b[1;33m\u001b[0m\u001b[1;33m\u001b[0m\u001b[0m\n\u001b[1;32m----> 3\u001b[1;33m \u001b[0mc45_model\u001b[0m \u001b[1;33m=\u001b[0m \u001b[0mC45\u001b[0m\u001b[1;33m(\u001b[0m\u001b[0mattrNames\u001b[0m\u001b[1;33m=\u001b[0m\u001b[0mX\u001b[0m\u001b[1;33m.\u001b[0m\u001b[0mcolumns\u001b[0m\u001b[1;33m)\u001b[0m\u001b[1;33m\u001b[0m\u001b[1;33m\u001b[0m\u001b[0m\n\u001b[0m\u001b[0;32m      4\u001b[0m \u001b[1;31m#Huấn luyện mô hình\u001b[0m\u001b[1;33m\u001b[0m\u001b[1;33m\u001b[0m\u001b[1;33m\u001b[0m\u001b[0m\n\u001b[0;32m      5\u001b[0m \u001b[0mc45_model\u001b[0m\u001b[1;33m.\u001b[0m\u001b[0mfit\u001b[0m\u001b[1;33m(\u001b[0m\u001b[0mX_train_oversample\u001b[0m\u001b[1;33m,\u001b[0m \u001b[0my_train_oversample\u001b[0m\u001b[1;33m)\u001b[0m\u001b[1;33m\u001b[0m\u001b[1;33m\u001b[0m\u001b[0m\n",
      "\u001b[1;31mNameError\u001b[0m: name 'X' is not defined"
     ]
    }
   ],
   "source": [
    "#loading thư viện C4.5\n",
    "from c45_tree_classifier import C45\n",
    "c45_model = C45(attrNames=X.columns)\n",
    "#Huấn luyện mô hình\n",
    "c45_model.fit(X_train_oversample, y_train_oversample)\n",
    "#Dự đoán mô hình\n",
    "y_pred2 = c45_model.predict(X_test)"
   ]
  },
  {
   "cell_type": "markdown",
   "metadata": {
    "id": "vkRA0Krp-h5X"
   },
   "source": [
    "Đánh giá mô hình C4.5"
   ]
  },
  {
   "cell_type": "code",
   "execution_count": null,
   "metadata": {
    "colab": {
     "base_uri": "https://localhost:8080/"
    },
    "id": "fllN-jwFvqCu",
    "outputId": "cb1036d9-8d4a-4e83-dbbb-69bc53c6b017"
   },
   "outputs": [
    {
     "name": "stdout",
     "output_type": "stream",
     "text": [
      "Độ chính xác là:  0.8475263584752636\n",
      "Số lượng các giao dịch thành công được dự đoán (True positive): 2797\n",
      "Số lượng các giao dịch thất bại bị phân loại nhầm là thành công 318\n",
      "Số lượng các giao dịch thất bại được dự đoán đúng 338\n",
      "Số lượng các giao dịch thành công bị phân loại nhầm là thất bại 246\n",
      "True Positive rate = 0.919\n",
      "True Negative rate = 0.515\n",
      "Giá trị precision = 0.919 \n",
      "Giá trị recall = 0.898\n",
      "Giá trị F1 Score = 0.92\n"
     ]
    }
   ],
   "source": [
    "print('Độ chính xác là: ',accuracy_score(y_test, y_pred2))\n",
    "cm2 = confusion_matrix(y_test, y_pred2)\n",
    "tp, fp, fn, tn = cm2.ravel()\n",
    "print('Số lượng các giao dịch thành công được dự đoán (True positive):',tp)\n",
    "print('Số lượng các giao dịch thất bại bị phân loại nhầm là thành công',fp)\n",
    "print('Số lượng các giao dịch thất bại được dự đoán đúng',tn)\n",
    "print('Số lượng các giao dịch thành công bị phân loại nhầm là thất bại',fn)\n",
    "print(\"True Positive rate = {0:.3f}\".format(tp/(tp+fn)))\n",
    "print(\"True Negative rate = {0:.3f}\".format(tn/(tn+fp)))\n",
    "p,r = cm2pr_binary(cm2)\n",
    "print(\"Giá trị precision = {0:.3f} \".format(p))\n",
    "print(\"Giá trị recall = {0:.3f}\".format(r))\n",
    "F1 = 2 * (p * r) / (p + r)\n",
    "print(\"Giá trị F1 Score = {0:.2f}\".format(p, r))\n"
   ]
  },
  {
   "cell_type": "markdown",
   "metadata": {
    "id": "IWXEYMLTNtP0"
   },
   "source": [
    "# **RANDOM FOREST**"
   ]
  },
  {
   "cell_type": "code",
   "execution_count": null,
   "metadata": {
    "id": "Tis2fm5rNzSN"
   },
   "outputs": [],
   "source": [
    "from sklearn.ensemble import RandomForestClassifier\n",
    "ramdomforest_model = RandomForestClassifier(n_estimators = 100, criterion = 'entropy', random_state = 0)\n",
    "#Huấn luyện mô hình Randomforest \n",
    "ramdomforest_model.fit(X_train_oversample, y_train_oversample)\n",
    "#Dự đoán kết quả sử dụng mô hình randomforest\n",
    "y_pred3 = ramdomforest_model.predict(X_test)"
   ]
  },
  {
   "cell_type": "markdown",
   "metadata": {
    "id": "O2HNa3_0_ZCG"
   },
   "source": [
    "Đánh giá mô hình Ramdom forest"
   ]
  },
  {
   "cell_type": "code",
   "execution_count": null,
   "metadata": {
    "colab": {
     "base_uri": "https://localhost:8080/"
    },
    "id": "VhPYOtg09-ti",
    "outputId": "11124548-0bb4-41e4-a4d5-456b7cb584cc"
   },
   "outputs": [
    {
     "name": "stdout",
     "output_type": "stream",
     "text": [
      "Độ chính xác là:  0.8675317653419843\n",
      "Số lượng các giao dịch thành công được dự đoán (True positive): 2795\n",
      "Số lượng các giao dịch thất bại bị phân loại nhầm là thành công 320\n",
      "Số lượng các giao dịch thất bại được dự đoán đúng 414\n",
      "Số lượng các giao dịch thành công bị phân loại nhầm là thất bại 170\n",
      "True Positive rate = 0.943\n",
      "True Negative rate = 0.564\n",
      "Giá trị precision = 0.943 \n",
      "Giá trị recall = 0.897\n",
      "Giá trị F1 Score = 0.94\n"
     ]
    }
   ],
   "source": [
    "print('Độ chính xác là: ',accuracy_score(y_test, y_pred3))\n",
    "cm3 = confusion_matrix(y_test, y_pred3)\n",
    "tp, fp, fn, tn = cm3.ravel()\n",
    "print('Số lượng các giao dịch thành công được dự đoán (True positive):',tp)\n",
    "print('Số lượng các giao dịch thất bại bị phân loại nhầm là thành công',fp)\n",
    "print('Số lượng các giao dịch thất bại được dự đoán đúng',tn)\n",
    "print('Số lượng các giao dịch thành công bị phân loại nhầm là thất bại',fn)\n",
    "print(\"True Positive rate = {0:.3f}\".format(tp/(tp+fn)))\n",
    "print(\"True Negative rate = {0:.3f}\".format(tn/(tn+fp)))\n",
    "p,r = cm2pr_binary(cm3)\n",
    "print(\"Giá trị precision = {0:.3f} \".format(p))\n",
    "print(\"Giá trị recall = {0:.3f}\".format(r))\n",
    "F1 = 2 * (p * r) / (p + r)\n",
    "print(\"Giá trị F1 Score = {0:.2f}\".format(p, r))\n"
   ]
  },
  {
   "cell_type": "markdown",
   "metadata": {
    "id": "_YBd386uN53j"
   },
   "source": [
    "**SVM sử dụng linear**"
   ]
  },
  {
   "cell_type": "code",
   "execution_count": null,
   "metadata": {
    "id": "2VrNfRXE2nBx"
   },
   "outputs": [],
   "source": [
    "from sklearn.svm import SVC\n",
    "#Tạo mô hình SVM sử dụng kernel là linear\n",
    "svm_linear_model = SVC(kernel='linear', C=1, random_state=0)\n",
    "#Huấn luyện mô hình\n",
    "svm_linear_model.fit(X_train_oversample, y_train_oversample)\n",
    "#Dự đoán kết quả trên tập test với mô hình SVM linear \n",
    "y_pred4 = svm_linear_model.predict(X_test)"
   ]
  },
  {
   "cell_type": "markdown",
   "metadata": {
    "id": "A73oQppG_cjq"
   },
   "source": [
    "Đánh giá mô hình SVM linear"
   ]
  },
  {
   "cell_type": "code",
   "execution_count": null,
   "metadata": {
    "colab": {
     "base_uri": "https://localhost:8080/"
    },
    "id": "LRndOxEGOOdy",
    "outputId": "4dfe8f60-df54-432b-ffac-37fa2cf320a3"
   },
   "outputs": [
    {
     "name": "stdout",
     "output_type": "stream",
     "text": [
      "Độ chính xác là:  0.8856447688564477\n",
      "Số lượng các giao dịch thành công được dự đoán (True positive): 2877\n",
      "Số lượng các giao dịch thất bại bị phân loại nhầm là thành công 238\n",
      "Số lượng các giao dịch thất bại được dự đoán đúng 399\n",
      "Số lượng các giao dịch thành công bị phân loại nhầm là thất bại 185\n",
      "True Positive rate = 0.940\n",
      "True Negative rate = 0.626\n",
      "Giá trị precision = 0.940 \n",
      "Giá trị recall = 0.924\n",
      "Giá trị F1 Score = 0.94\n"
     ]
    }
   ],
   "source": [
    "print('Độ chính xác là: ',accuracy_score(y_test, y_pred4))\n",
    "cm4 = confusion_matrix(y_test, y_pred4)\n",
    "tp, fp, fn, tn = cm4.ravel()\n",
    "print('Số lượng các giao dịch thành công được dự đoán (True positive):',tp)\n",
    "print('Số lượng các giao dịch thất bại bị phân loại nhầm là thành công',fp)\n",
    "print('Số lượng các giao dịch thất bại được dự đoán đúng',tn)\n",
    "print('Số lượng các giao dịch thành công bị phân loại nhầm là thất bại',fn)\n",
    "print(\"True Positive rate = {0:.3f}\".format(tp/(tp+fn)))\n",
    "print(\"True Negative rate = {0:.3f}\".format(tn/(tn+fp)))\n",
    "p,r = cm2pr_binary(cm4)\n",
    "print(\"Giá trị precision = {0:.3f} \".format(p))\n",
    "print(\"Giá trị recall = {0:.3f}\".format(r))\n",
    "F1 = 2 * (p * r) / (p + r)\n",
    "print(\"Giá trị F1 Score = {0:.2f}\".format(p, r))\n"
   ]
  },
  {
   "cell_type": "markdown",
   "metadata": {
    "id": "QYzY3AAu1lMX"
   },
   "source": [
    "**SVM sử dụng RBF**"
   ]
  },
  {
   "cell_type": "code",
   "execution_count": null,
   "metadata": {
    "id": "ffY4yhIh1fBh"
   },
   "outputs": [],
   "source": [
    "from sklearn.svm import SVC\n",
    "#Tạo mô hình SVM sử dụng kernel là RBF\n",
    "svm_rbf_model = SVC(kernel='rbf', random_state=0, gamma=.01, C=1)\n",
    "svm_rbf_model.fit(X_train_oversample, y_train_oversample)\n",
    "#Dự đoán kết quả trên tập test với mô hình SVM RBF \n",
    "y_pred5 = svm_rbf_model.predict(X_test)"
   ]
  },
  {
   "cell_type": "markdown",
   "metadata": {
    "id": "MM6lqbOa_lsY"
   },
   "source": [
    "Đánh giá mô hình SVM RBF"
   ]
  },
  {
   "cell_type": "code",
   "execution_count": null,
   "metadata": {
    "colab": {
     "base_uri": "https://localhost:8080/"
    },
    "id": "Zxo9oG681kqq",
    "outputId": "871f9123-2875-4364-a596-6a32ae1f3fb7"
   },
   "outputs": [
    {
     "name": "stdout",
     "output_type": "stream",
     "text": [
      "Độ chính xác là:  0.8775344687753447\n",
      "Số lượng các giao dịch thành công được dự đoán (True positive): 2777\n",
      "Số lượng các giao dịch thất bại bị phân loại nhầm là thành công 338\n",
      "Số lượng các giao dịch thất bại được dự đoán đúng 469\n",
      "Số lượng các giao dịch thành công bị phân loại nhầm là thất bại 115\n",
      "True Positive rate = 0.960\n",
      "True Negative rate = 0.581\n",
      "Giá trị precision = 0.960 \n",
      "Giá trị recall = 0.891\n",
      "Giá trị F1 Score = 0.96\n"
     ]
    }
   ],
   "source": [
    "print('Độ chính xác là: ',accuracy_score(y_test, y_pred5))\n",
    "cm5 = confusion_matrix(y_test, y_pred5)\n",
    "tp, fp, fn, tn = cm5.ravel()\n",
    "print('Số lượng các giao dịch thành công được dự đoán (True positive):',tp)\n",
    "print('Số lượng các giao dịch thất bại bị phân loại nhầm là thành công',fp)\n",
    "print('Số lượng các giao dịch thất bại được dự đoán đúng',tn)\n",
    "print('Số lượng các giao dịch thành công bị phân loại nhầm là thất bại',fn)\n",
    "print(\"True Positive rate = {0:.3f}\".format(tp/(tp+fn)))\n",
    "print(\"True Negative rate = {0:.3f}\".format(tn/(tn+fp)))\n",
    "p,r = cm2pr_binary(cm5)\n",
    "print(\"Giá trị precision = {0:.3f} \".format(p))\n",
    "print(\"Giá trị recall = {0:.3f}\".format(r))\n",
    "F1 = 2 * (p * r) / (p + r)\n",
    "print(\"Giá trị F1 Score = {0:.2f}\".format(p, r))"
   ]
  },
  {
   "cell_type": "code",
   "execution_count": null,
   "metadata": {
    "id": "hOGvWIdK1jkn"
   },
   "outputs": [],
   "source": []
  },
  {
   "cell_type": "markdown",
   "metadata": {
    "id": "J_RxT73-OXWa"
   },
   "source": [
    "**TEST THỰC TẾ**"
   ]
  },
  {
   "cell_type": "code",
   "execution_count": null,
   "metadata": {
    "id": "NdlVcAFDOdn_"
   },
   "outputs": [],
   "source": [
    "test_row= X_test.iloc[1345]\n",
    "test_row\n"
   ]
  },
  {
   "cell_type": "code",
   "execution_count": null,
   "metadata": {
    "id": "taMb5NrmOn1x"
   },
   "outputs": [],
   "source": [
    "preds = mlp_model.predict(np.array([X_test.iloc[1345]]))[0]"
   ]
  },
  {
   "cell_type": "code",
   "execution_count": null,
   "metadata": {
    "id": "sjfaQ-3EPC4S"
   },
   "outputs": [],
   "source": [
    "print(\"kết quả thực tế\",y_test.iloc[1345])\n",
    "print(\"kết quả dự đoán\",preds)\n"
   ]
  }
 ],
 "metadata": {
  "colab": {
   "collapsed_sections": [],
   "name": "Review_Bigdata_Final_Edition",
   "provenance": []
  },
  "kernelspec": {
   "display_name": "Python 3",
   "language": "python",
   "name": "python3"
  },
  "language_info": {
   "codemirror_mode": {
    "name": "ipython",
    "version": 3
   },
   "file_extension": ".py",
   "mimetype": "text/x-python",
   "name": "python",
   "nbconvert_exporter": "python",
   "pygments_lexer": "ipython3",
   "version": "3.8.8"
  }
 },
 "nbformat": 4,
 "nbformat_minor": 1
}
